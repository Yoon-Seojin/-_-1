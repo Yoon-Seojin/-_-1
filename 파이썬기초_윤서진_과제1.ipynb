{
  "nbformat": 4,
  "nbformat_minor": 0,
  "metadata": {
    "colab": {
      "name": "파이썬기초_윤서진_과제1.ipynb",
      "provenance": [],
      "collapsed_sections": []
    },
    "kernelspec": {
      "name": "python3",
      "display_name": "Python 3"
    }
  },
  "cells": [
    {
      "cell_type": "code",
      "metadata": {
        "id": "ev2x-7z5Wygk",
        "colab_type": "code",
        "colab": {
          "base_uri": "https://localhost:8080/",
          "height": 34
        },
        "outputId": "d83b36d3-f379-4998-92b4-7127a1ebe303"
      },
      "source": [
        "#Pop_Quiz1\n",
        "print(\"Hello World!!!\")"
      ],
      "execution_count": 17,
      "outputs": [
        {
          "output_type": "stream",
          "text": [
            "Hello World!!!\n"
          ],
          "name": "stdout"
        }
      ]
    },
    {
      "cell_type": "code",
      "metadata": {
        "id": "de3fpAOTcvEB",
        "colab_type": "code",
        "colab": {
          "base_uri": "https://localhost:8080/",
          "height": 87
        },
        "outputId": "f3832f63-8cdf-4b77-d31a-40e74adde9e7"
      },
      "source": [
        "#Pop_Quiz2\n",
        "a = type(6/2)\n",
        "b = type(6//2)\n",
        "\n",
        "#2-1\n",
        "print(\"What is the data type of the result 6/2?\\n\",a)\n",
        "#2-2\n",
        "print(\"What is the data type of the result 6//2?\\n\",b)"
      ],
      "execution_count": 23,
      "outputs": [
        {
          "output_type": "stream",
          "text": [
            "What is the data type of the result 6/2?\n",
            " <class 'float'>\n",
            "What is the data type of the result 6//2?\n",
            " <class 'int'>\n"
          ],
          "name": "stdout"
        }
      ]
    },
    {
      "cell_type": "code",
      "metadata": {
        "id": "BAAnK0snWVlC",
        "colab_type": "code",
        "colab": {
          "base_uri": "https://localhost:8080/",
          "height": 123
        },
        "outputId": "ef2997de-2ba1-4f7e-b7e4-58f90f300cee"
      },
      "source": [
        "#Pop_Quiz3\n",
        "Total_Min = 1300\n",
        "Hour = Total_Min//60\n",
        "Min = Total_Min%60\n",
        "\n",
        "print(\"Hour: \"+str(Hour)+\"\\nMin: \"+str(Min))\n",
        "print(\"Hour:\",Hour,\"\\nMin:\",Min)\n",
        "print(\"Hour: %d\\nMin: %s\"% (Hour,str(Min))) "
      ],
      "execution_count": 16,
      "outputs": [
        {
          "output_type": "stream",
          "text": [
            "Hour: 21\n",
            "Min: 40\n",
            "Hour: 21 \n",
            "Min: 40\n",
            "Hour: 21\n",
            "Min: 40\n"
          ],
          "name": "stdout"
        }
      ]
    }
  ]
}